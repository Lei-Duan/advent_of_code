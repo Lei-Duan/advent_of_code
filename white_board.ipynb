{
 "cells": [
  {
   "cell_type": "code",
   "execution_count": 1713,
   "metadata": {},
   "outputs": [],
   "source": [
    "import clipboard\n",
    "import numpy as np"
   ]
  },
  {
   "cell_type": "code",
   "execution_count": 1707,
   "metadata": {},
   "outputs": [],
   "source": [
    "raw = clipboard.paste()  "
   ]
  },
  {
   "cell_type": "code",
   "execution_count": 2008,
   "metadata": {},
   "outputs": [],
   "source": [
    "data = raw.split(sep = '\\n')"
   ]
  },
  {
   "cell_type": "code",
   "execution_count": 2009,
   "metadata": {},
   "outputs": [],
   "source": [
    "arr = np.array([[ j for j in i] for i in data])"
   ]
  },
  {
   "cell_type": "markdown",
   "metadata": {},
   "source": [
    "# Part 1"
   ]
  },
  {
   "cell_type": "code",
   "execution_count": 2010,
   "metadata": {},
   "outputs": [],
   "source": [
    "def adjacent_check(i,j, data = None):\n",
    "    square = [['L','L','L'],['L','','L'],['L','L','L']] \n",
    "    for a,x in zip([i-1,i,i+1],[0,1,2]):\n",
    "        for b,y in zip([j-1, j , j+1],[0,1,2]):\n",
    "            if (a == i) & (b == j):\n",
    "                continue \n",
    "            if (a in range(len(data)) ) & (b in range(len(data[0]))):\n",
    "                square[x][y] = data[a][b]\n",
    "            else:\n",
    "                square[x][y] = 'L'\n",
    "    status = data[i][j]\n",
    "    cnt  = ''.join([''.join(s) for s in square] ).count('#')\n",
    "    if (status == 'L') & (cnt == 0):\n",
    "        choice = '#'\n",
    "    elif (status == '#') & (cnt >= 4):\n",
    "        choice = 'L'\n",
    "    else:\n",
    "        choice = status\n",
    "    return choice\n",
    "    "
   ]
  },
  {
   "cell_type": "code",
   "execution_count": 2011,
   "metadata": {},
   "outputs": [],
   "source": [
    "def run(data, check_func = None):\n",
    "    end   = copy.deepcopy(arr)\n",
    "    while True:\n",
    "        start = copy.deepcopy(end)\n",
    "        change_seat = 0\n",
    "        for i in range(len(start)):\n",
    "            for j in range(len(start[0])):\n",
    "                end[i][j] = check_func(i,j, data = start)\n",
    "                if start[i][j] != end[i][j]:\n",
    "                    change_seat += 1\n",
    "        if change_seat == 0:\n",
    "            break\n",
    "    return ''.join([''.join(s) for s in end ] ).count('#')"
   ]
  },
  {
   "cell_type": "code",
   "execution_count": 2012,
   "metadata": {},
   "outputs": [
    {
     "data": {
      "text/plain": [
       "2481"
      ]
     },
     "execution_count": 2012,
     "metadata": {},
     "output_type": "execute_result"
    }
   ],
   "source": [
    "run(arr,adjacent_check)"
   ]
  },
  {
   "cell_type": "markdown",
   "metadata": {},
   "source": [
    "# Part 2"
   ]
  },
  {
   "cell_type": "code",
   "execution_count": 1998,
   "metadata": {},
   "outputs": [],
   "source": [
    "def visual_check(i,j,data):\n",
    "    result = ''\n",
    "    for x_sign,y_sign in [(1,0),(0,1),(-1,0),(0,-1),(1,1),(1,-1),(-1,1),(-1,-1)]:\n",
    "        for dist in range(1, min(data.shape) ):\n",
    "            x = i + x_sign * dist\n",
    "            y = j + y_sign * dist\n",
    "            if (x in range(len(data)) ) & (y in range(len(data[0]))):\n",
    "                if data[x][y] in (['L','#']):\n",
    "                    result += data[x][y]\n",
    "                    break\n",
    "                else:\n",
    "                    continue\n",
    "            else:\n",
    "                result += 'L'\n",
    "                break\n",
    "    \n",
    "    status = data[i,j]\n",
    "    cnt  = result.count('#')\n",
    "    if (status == 'L') & (cnt == 0):\n",
    "        choice = '#'\n",
    "    elif (status == '#') & (cnt >= 5):\n",
    "        choice = 'L'\n",
    "    else:\n",
    "        choice = status\n",
    "    return choice"
   ]
  },
  {
   "cell_type": "code",
   "execution_count": 2013,
   "metadata": {},
   "outputs": [
    {
     "data": {
      "text/plain": [
       "2227"
      ]
     },
     "execution_count": 2013,
     "metadata": {},
     "output_type": "execute_result"
    }
   ],
   "source": [
    "run(arr,visual_check)"
   ]
  }
 ],
 "metadata": {
  "kernelspec": {
   "display_name": "Python 3",
   "language": "python",
   "name": "python3"
  },
  "language_info": {
   "codemirror_mode": {
    "name": "ipython",
    "version": 3
   },
   "file_extension": ".py",
   "mimetype": "text/x-python",
   "name": "python",
   "nbconvert_exporter": "python",
   "pygments_lexer": "ipython3",
   "version": "3.7.4"
  }
 },
 "nbformat": 4,
 "nbformat_minor": 2
}
