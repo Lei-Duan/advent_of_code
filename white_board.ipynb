{
 "cells": [
  {
   "cell_type": "code",
   "execution_count": 2047,
   "metadata": {},
   "outputs": [],
   "source": [
    "import clipboard\n",
    "import math"
   ]
  },
  {
   "cell_type": "code",
   "execution_count": 2014,
   "metadata": {},
   "outputs": [],
   "source": [
    "raw = clipboard.paste() "
   ]
  },
  {
   "cell_type": "code",
   "execution_count": 2015,
   "metadata": {},
   "outputs": [],
   "source": [
    "data = raw.split(sep = '\\n')"
   ]
  },
  {
   "cell_type": "code",
   "execution_count": 2019,
   "metadata": {},
   "outputs": [],
   "source": [
    "text = [ [d[0], int(d[1:])]  for d in data ]"
   ]
  },
  {
   "cell_type": "markdown",
   "metadata": {},
   "source": [
    "# Part 1"
   ]
  },
  {
   "cell_type": "code",
   "execution_count": 2121,
   "metadata": {},
   "outputs": [],
   "source": [
    "dir_map = {'E':[0,1],'W':[0,-1],'N':[1,1],'S':[1,-1],'L':1, 'R':-1}"
   ]
  },
  {
   "cell_type": "code",
   "execution_count": 2168,
   "metadata": {
    "scrolled": true
   },
   "outputs": [
    {
     "data": {
      "text/plain": [
       "-507.9999999999998"
      ]
     },
     "execution_count": 2168,
     "metadata": {},
     "output_type": "execute_result"
    }
   ],
   "source": [
    "start = [0, 0, 0]\n",
    "for action,value in text:\n",
    "    if action in ['E','W','N','S']:\n",
    "        # east / north as main axis\n",
    "        start[ dir_map[action][0] ] += dir_map[action][1] * value\n",
    "            \n",
    "    elif action in ['L','R']:\n",
    "        # east / north as main axis\n",
    "        start[2] += dir_map[action] * value\n",
    "    elif action == 'F':\n",
    "        angle = math.radians(start[2])\n",
    "        start[0] += value * math.cos(angle)\n",
    "        start[1] += value * math.sin(angle)\n",
    "\n",
    "start[0] + start[1]"
   ]
  },
  {
   "cell_type": "markdown",
   "metadata": {},
   "source": [
    "# Part 2"
   ]
  },
  {
   "cell_type": "code",
   "execution_count": 2167,
   "metadata": {
    "scrolled": false
   },
   "outputs": [
    {
     "data": {
      "text/plain": [
       "-30761.000000000022"
      ]
     },
     "execution_count": 2167,
     "metadata": {},
     "output_type": "execute_result"
    }
   ],
   "source": [
    "start = [0,0]\n",
    "pt    = [10,1]\n",
    "for action,value in text:\n",
    "    if action in ['E','W','N','S']:\n",
    "        # east / north as main axis\n",
    "        pt[ dir_map[action][0] ] += dir_map[action][1]  * value\n",
    "        \n",
    "    elif action in ['L','R']:\n",
    "        # east / north as main axis\n",
    "        x,y = pt\n",
    "        lenth = math.hypot(x,y)\n",
    "        angle = math.degrees( math.atan2(y,x)) + dir_map[action] * value\n",
    "        pt[0] = lenth * math.cos(math.radians(angle))\n",
    "        pt[1] = lenth * math.sin(math.radians(angle))\n",
    "        \n",
    "    elif action == 'F':\n",
    "        start[0] += value * pt[0]\n",
    "        start[1] += value * pt[1]\n",
    "\n",
    "start[0] + start[1]"
   ]
  }
 ],
 "metadata": {
  "kernelspec": {
   "display_name": "Python 3",
   "language": "python",
   "name": "python3"
  },
  "language_info": {
   "codemirror_mode": {
    "name": "ipython",
    "version": 3
   },
   "file_extension": ".py",
   "mimetype": "text/x-python",
   "name": "python",
   "nbconvert_exporter": "python",
   "pygments_lexer": "ipython3",
   "version": "3.7.4"
  }
 },
 "nbformat": 4,
 "nbformat_minor": 2
}
