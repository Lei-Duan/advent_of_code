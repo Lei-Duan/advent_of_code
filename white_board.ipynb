{
 "cells": [
  {
   "cell_type": "code",
   "execution_count": 2,
   "metadata": {},
   "outputs": [],
   "source": [
    "import pandas as pd"
   ]
  },
  {
   "cell_type": "code",
   "execution_count": 10,
   "metadata": {},
   "outputs": [],
   "source": [
    "raw_data = pd.read_clipboard(sep = ' ',header=None)"
   ]
  },
  {
   "cell_type": "code",
   "execution_count": 91,
   "metadata": {},
   "outputs": [],
   "source": [
    "def pwd_checker_2(raw_df = None):\n",
    "    # data clean\n",
    "    df = raw_df[0].str.split(\"-\", n =1, expand = True).rename(columns = {0:'pos_1',1:'pos_2'})\n",
    "    df['letter'] = raw_df[1].str.strip(\":\")\n",
    "    df['pwd'] = raw_df[2]\n",
    "    df = df.astype({'pos_1':int,'pos_2':int}) \n",
    "\n",
    "    # validate\n",
    "    df['validate'] = df.apply(lambda x: True if (x.pwd[x.pos_1-1] + x.pwd[x.pos_2-1]).count(x.letter) == 1 else False , axis=1)\n",
    "    return df['validate'].sum()"
   ]
  },
  {
   "cell_type": "code",
   "execution_count": 85,
   "metadata": {},
   "outputs": [
    {
     "data": {
      "text/html": [
       "<div>\n",
       "<style scoped>\n",
       "    .dataframe tbody tr th:only-of-type {\n",
       "        vertical-align: middle;\n",
       "    }\n",
       "\n",
       "    .dataframe tbody tr th {\n",
       "        vertical-align: top;\n",
       "    }\n",
       "\n",
       "    .dataframe thead th {\n",
       "        text-align: right;\n",
       "    }\n",
       "</style>\n",
       "<table border=\"1\" class=\"dataframe\">\n",
       "  <thead>\n",
       "    <tr style=\"text-align: right;\">\n",
       "      <th></th>\n",
       "      <th>0</th>\n",
       "      <th>1</th>\n",
       "      <th>2</th>\n",
       "      <th>min</th>\n",
       "      <th>max</th>\n",
       "      <th>letter</th>\n",
       "    </tr>\n",
       "  </thead>\n",
       "  <tbody>\n",
       "    <tr>\n",
       "      <td>0</td>\n",
       "      <td>8-11</td>\n",
       "      <td>l:</td>\n",
       "      <td>qllllqllklhlvtl</td>\n",
       "      <td>8</td>\n",
       "      <td>11</td>\n",
       "      <td>l</td>\n",
       "    </tr>\n",
       "    <tr>\n",
       "      <td>1</td>\n",
       "      <td>1-3</td>\n",
       "      <td>m:</td>\n",
       "      <td>wmmmmmttm</td>\n",
       "      <td>1</td>\n",
       "      <td>3</td>\n",
       "      <td>m</td>\n",
       "    </tr>\n",
       "    <tr>\n",
       "      <td>2</td>\n",
       "      <td>2-4</td>\n",
       "      <td>p:</td>\n",
       "      <td>pgppp</td>\n",
       "      <td>2</td>\n",
       "      <td>4</td>\n",
       "      <td>p</td>\n",
       "    </tr>\n",
       "    <tr>\n",
       "      <td>3</td>\n",
       "      <td>11-12</td>\n",
       "      <td>n:</td>\n",
       "      <td>nnndnnnnnnnn</td>\n",
       "      <td>11</td>\n",
       "      <td>12</td>\n",
       "      <td>n</td>\n",
       "    </tr>\n",
       "    <tr>\n",
       "      <td>4</td>\n",
       "      <td>17-19</td>\n",
       "      <td>q:</td>\n",
       "      <td>qprqdcgrqrqmmhtqqvr</td>\n",
       "      <td>17</td>\n",
       "      <td>19</td>\n",
       "      <td>q</td>\n",
       "    </tr>\n",
       "    <tr>\n",
       "      <td>...</td>\n",
       "      <td>...</td>\n",
       "      <td>...</td>\n",
       "      <td>...</td>\n",
       "      <td>...</td>\n",
       "      <td>...</td>\n",
       "      <td>...</td>\n",
       "    </tr>\n",
       "    <tr>\n",
       "      <td>994</td>\n",
       "      <td>9-11</td>\n",
       "      <td>s:</td>\n",
       "      <td>sssssstsssgss</td>\n",
       "      <td>9</td>\n",
       "      <td>11</td>\n",
       "      <td>s</td>\n",
       "    </tr>\n",
       "    <tr>\n",
       "      <td>995</td>\n",
       "      <td>2-6</td>\n",
       "      <td>n:</td>\n",
       "      <td>nnfnpgnnnmnnn</td>\n",
       "      <td>2</td>\n",
       "      <td>6</td>\n",
       "      <td>n</td>\n",
       "    </tr>\n",
       "    <tr>\n",
       "      <td>996</td>\n",
       "      <td>15-17</td>\n",
       "      <td>w:</td>\n",
       "      <td>wwwwrswthgwhkwwrw</td>\n",
       "      <td>15</td>\n",
       "      <td>17</td>\n",
       "      <td>w</td>\n",
       "    </tr>\n",
       "    <tr>\n",
       "      <td>997</td>\n",
       "      <td>5-9</td>\n",
       "      <td>h:</td>\n",
       "      <td>lbhdhplmbnwh</td>\n",
       "      <td>5</td>\n",
       "      <td>9</td>\n",
       "      <td>h</td>\n",
       "    </tr>\n",
       "    <tr>\n",
       "      <td>998</td>\n",
       "      <td>5-6</td>\n",
       "      <td>d:</td>\n",
       "      <td>jdddqqt</td>\n",
       "      <td>5</td>\n",
       "      <td>6</td>\n",
       "      <td>d</td>\n",
       "    </tr>\n",
       "  </tbody>\n",
       "</table>\n",
       "<p>999 rows × 6 columns</p>\n",
       "</div>"
      ],
      "text/plain": [
       "         0   1                    2 min max letter\n",
       "0     8-11  l:      qllllqllklhlvtl   8  11      l\n",
       "1      1-3  m:            wmmmmmttm   1   3      m\n",
       "2      2-4  p:                pgppp   2   4      p\n",
       "3    11-12  n:         nnndnnnnnnnn  11  12      n\n",
       "4    17-19  q:  qprqdcgrqrqmmhtqqvr  17  19      q\n",
       "..     ...  ..                  ...  ..  ..    ...\n",
       "994   9-11  s:        sssssstsssgss   9  11      s\n",
       "995    2-6  n:        nnfnpgnnnmnnn   2   6      n\n",
       "996  15-17  w:    wwwwrswthgwhkwwrw  15  17      w\n",
       "997    5-9  h:         lbhdhplmbnwh   5   9      h\n",
       "998    5-6  d:              jdddqqt   5   6      d\n",
       "\n",
       "[999 rows x 6 columns]"
      ]
     },
     "execution_count": 85,
     "metadata": {},
     "output_type": "execute_result"
    }
   ],
   "source": [
    "raw_data"
   ]
  },
  {
   "cell_type": "code",
   "execution_count": 92,
   "metadata": {},
   "outputs": [
    {
     "data": {
      "text/plain": [
       "688"
      ]
     },
     "execution_count": 92,
     "metadata": {},
     "output_type": "execute_result"
    }
   ],
   "source": [
    "pwd_checker_2(raw_data)"
   ]
  },
  {
   "cell_type": "code",
   "execution_count": 89,
   "metadata": {},
   "outputs": [
    {
     "data": {
      "text/plain": [
       "False"
      ]
     },
     "execution_count": 89,
     "metadata": {},
     "output_type": "execute_result"
    }
   ],
   "source": [
    "pwd = 'cdefg'\n",
    "letter = 'b'\n",
    "True if letter in (pwd[1-1] + pwd[3-1]) else False"
   ]
  },
  {
   "cell_type": "code",
   "execution_count": null,
   "metadata": {},
   "outputs": [],
   "source": []
  },
  {
   "cell_type": "code",
   "execution_count": null,
   "metadata": {},
   "outputs": [],
   "source": []
  },
  {
   "cell_type": "code",
   "execution_count": null,
   "metadata": {},
   "outputs": [],
   "source": []
  },
  {
   "cell_type": "code",
   "execution_count": null,
   "metadata": {},
   "outputs": [],
   "source": []
  }
 ],
 "metadata": {
  "kernelspec": {
   "display_name": "Python 3",
   "language": "python",
   "name": "python3"
  },
  "language_info": {
   "codemirror_mode": {
    "name": "ipython",
    "version": 3
   },
   "file_extension": ".py",
   "mimetype": "text/x-python",
   "name": "python",
   "nbconvert_exporter": "python",
   "pygments_lexer": "ipython3",
   "version": "3.7.4"
  }
 },
 "nbformat": 4,
 "nbformat_minor": 2
}
