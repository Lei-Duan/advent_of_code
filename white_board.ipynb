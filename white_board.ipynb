{
 "cells": [
  {
   "cell_type": "code",
   "execution_count": 1328,
   "metadata": {},
   "outputs": [],
   "source": [
    "import clipboard"
   ]
  },
  {
   "cell_type": "code",
   "execution_count": 1329,
   "metadata": {},
   "outputs": [],
   "source": [
    "raw = clipboard.paste()  "
   ]
  },
  {
   "cell_type": "code",
   "execution_count": 1348,
   "metadata": {},
   "outputs": [],
   "source": [
    "text = raw.split(sep = '\\n')"
   ]
  },
  {
   "cell_type": "code",
   "execution_count": 1424,
   "metadata": {},
   "outputs": [],
   "source": [
    "data = [int(t) for t in text]\n",
    "data.sort()"
   ]
  },
  {
   "cell_type": "markdown",
   "metadata": {},
   "source": [
    "# Part 1"
   ]
  },
  {
   "cell_type": "code",
   "execution_count": 1422,
   "metadata": {
    "scrolled": true
   },
   "outputs": [
    {
     "data": {
      "text/plain": [
       "{1: 66, 2: 0, 3: 32}"
      ]
     },
     "execution_count": 1422,
     "metadata": {},
     "output_type": "execute_result"
    }
   ],
   "source": [
    "volt = 0\n",
    "diff = {1:0,2:0,3:0}\n",
    "while len(data) > 0:\n",
    "    for d in diff:\n",
    "        if (volt + d) in data:\n",
    "            data.remove(volt + d)\n",
    "            diff[d] += 1\n",
    "            volt    += d\n",
    "            break      \n",
    "diff[3] += 1 # last chain\n",
    "diff"
   ]
  },
  {
   "cell_type": "markdown",
   "metadata": {},
   "source": [
    "# Part 2"
   ]
  },
  {
   "cell_type": "code",
   "execution_count": 1482,
   "metadata": {},
   "outputs": [
    {
     "data": {
      "text/plain": [
       "3022415986688"
      ]
     },
     "execution_count": 1482,
     "metadata": {},
     "output_type": "execute_result"
    }
   ],
   "source": [
    "# recursive function\n",
    "cache = {}\n",
    "def findstep(n) :\n",
    "    if n in cache:\n",
    "        return cache[n] # cache result to help recursive function to run\n",
    "    elif n not in data + [0]:\n",
    "        return 0\n",
    "    elif n in (0,1,2): \n",
    "        cache[n] = n\n",
    "        return n\n",
    "    else:\n",
    "        cache[n] = findstep(n - 3) + findstep(n - 2) + findstep(n - 1)  \n",
    "        return findstep(n - 3) + findstep(n - 2) + findstep(n - 1)  \n",
    "        \n",
    "findStep(159)"
   ]
  },
  {
   "cell_type": "code",
   "execution_count": 1484,
   "metadata": {},
   "outputs": [
    {
     "data": {
      "text/plain": [
       "3022415986688"
      ]
     },
     "execution_count": 1484,
     "metadata": {},
     "output_type": "execute_result"
    }
   ],
   "source": [
    "# dynamic programming\n",
    "def findstep(n):\n",
    "    memo[0], memo[1],memo[2] = 0, 1, 2\n",
    "    for i in range(3, n+1):\n",
    "        if i not in data:\n",
    "            memo[i] = memo[i-1] + memo[i-2]\n",
    "    return memo[n]\n",
    "\n",
    "findStep(159)"
   ]
  }
 ],
 "metadata": {
  "kernelspec": {
   "display_name": "Python 3",
   "language": "python",
   "name": "python3"
  },
  "language_info": {
   "codemirror_mode": {
    "name": "ipython",
    "version": 3
   },
   "file_extension": ".py",
   "mimetype": "text/x-python",
   "name": "python",
   "nbconvert_exporter": "python",
   "pygments_lexer": "ipython3",
   "version": "3.7.4"
  }
 },
 "nbformat": 4,
 "nbformat_minor": 2
}
